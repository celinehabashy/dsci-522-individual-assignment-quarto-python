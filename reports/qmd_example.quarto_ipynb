{
  "cells": [
    {
      "cell_type": "markdown",
      "metadata": {},
      "source": [
        "---\n",
        "title: \"DSCI 310: Historical Horse Population in Canada\"\n",
        "author: \"Tiffany Timbers & Jordan Bourak\"\n",
        "execute:\n",
        "  echo: false\n",
        "format:\n",
        "  html:\n",
        "    toc: true\n",
        "    toc-depth: 2\n",
        "    toc-title: Contents\n",
        "bibliography: references.bib\n",
        "---"
      ],
      "id": "ce555b73"
    },
    {
      "cell_type": "code",
      "metadata": {},
      "source": [
        "import pandas as pd\n",
        "from IPython.display import Markdown, display\n",
        "from tabulate import tabulate"
      ],
      "id": "da6d7f3d",
      "execution_count": null,
      "outputs": []
    },
    {
      "cell_type": "markdown",
      "metadata": {},
      "source": [
        "# Aim\n",
        "\n",
        "This project explores the historical population of horses in Canada \n",
        "between 1906 and 1972 for each province.\n",
        "\n",
        "# Data\n",
        "\n",
        "Horse population data were sourced from the Government of Canada’s Open Data website [@horses1; @horses2].\n",
        "\n",
        "# Methods\n",
        "\n",
        "The Python programming language [@Python] and the following Python packages were used to perform the analysis: \n",
        "- `pandas` [@pandas], \n",
        "- `altair` [@altair], \n",
        "- `click` [@click], \n",
        "as well as Quarto [@Allaire_Quarto_2022]. \n",
        "\n",
        "*Note: this report is adapted from Timbers [@ttimbers-horses].*\n",
        "\n",
        "# Results\n",
        "\n",
        "![Horse populations for all provinces in Canada from 1906 - 1972.](../results/horse_pops_plot.png){#fig-horse-population}\n",
        "\n",
        "We can see from @fig-horse-population that Ontario, Saskatchewan and Alberta \n",
        "have had the highest horse populations in Canada. \n",
        "All provinces have had a decline in horse populations since 1940. \n",
        "This is likely due to the rebound of the Canadian automotive industry \n",
        "after the Great Depression and the Second World War. \n",
        "An interesting follow-up visualisation would be car sales per year \n",
        "for each Province over the time period visualised above \n",
        "to further support this hypothesis.\n",
        "\n",
        "Suppose we were interested in looking in more closely at the province \n",
        "with the highest spread (in terms of standard deviation) of horse populations. \n",
        "We present the standard deviations in @tbl-horses-sd.\n"
      ],
      "id": "c9060c49"
    },
    {
      "cell_type": "code",
      "metadata": {},
      "source": [
        "#| label: tbl-horses-sd\n",
        "#| tbl-cap: Standard deviation of historical (1906–1972) horse populations for each Canadian province.\n",
        "#| layout-ncol: 1\n",
        "\n",
        "horses_sd_table = pd.read_csv(\"../results/horses_sd.csv\")\n",
        "largest_sd = horses_sd_table['Province'].values[0]\n",
        "display(Markdown(horses_sd_table.to_markdown(index=False)))"
      ],
      "id": "tbl-horses-sd",
      "execution_count": null,
      "outputs": []
    },
    {
      "cell_type": "markdown",
      "metadata": {},
      "source": [
        "Note that we define standard deviation (of a sample) as\n",
        "\n",
        "$$s = \\sqrt{\\frac{\\sum_{i=1}^N (x_i - \\overline{x})^2}{N-1} }$$\n",
        "\n",
        "Additionally, note that in @tbl-horses-sd we consider the sample standard deviation of the number of horses during the same time span as @fig-horse-population.\n",
        "\n",
        "![Horse populations for the province with the largest standard deviation](../results/horse_pops_plot_largest_sd.png){#fig-largest-sd width=70%}\n",
        "\n",
        "In @fig-largest-sd we zoom in and look at the province of `{python} largest_sd`, which had the largest spread of values in terms of standard deviation.\n",
        "\n",
        "\n",
        "\\newpage\n",
        "# References"
      ],
      "id": "f21382ec"
    }
  ],
  "metadata": {
    "kernelspec": {
      "name": "python3",
      "language": "python",
      "display_name": "Python 3 (ipykernel)",
      "path": "/Users/celinehabashy/miniforge3/share/jupyter/kernels/python3"
    }
  },
  "nbformat": 4,
  "nbformat_minor": 5
}